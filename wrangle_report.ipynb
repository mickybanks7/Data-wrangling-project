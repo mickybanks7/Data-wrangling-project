{
 "cells": [
  {
   "cell_type": "markdown",
   "metadata": {},
   "source": [
    "## Reporting: wragle_report\n",
    "\n"
   ]
  },
  {
   "cell_type": "markdown",
   "metadata": {},
   "source": [
    "The project is about a twitter handle known as `WeRateDogs` popularly known for their pedegree when it comes to posting and rating dogs. This project entails having three dataset at the gathering stage.\n",
    "\n",
    "> The first dataset needed for the project was the `twitter_archiev_enhanced.csv`, this dataset was provided in the classroom by Udacity. All i had to do was used the pandas **pd.read_csv** to read the given dataset as a dataframe.\n",
    "\n",
    "> The second dataset was provided as a link in the classroom by Udacity. Using the `request` library of scrapping data from the web, the link to the second dataset having data of predicted dog types we scrapped and saved as a **.tsv** file. \n",
    "\n",
    "> The third dataset is more information about the first dataset but must be gathered through or using the twitter API. It has been difficult getting the twitter API and so, I resolved to using the link provided in the classroom. The `text_json` file in the link was downloaded using the request library and thus read line by line before been saved as a pandas dataframe.\n",
    "\n",
    "> The gathering process for the first dataset was done manually. The second and third dataset gathering was done programmatically which involved using the request library and the twitter API if granted access.\n",
    "\n",
    "> After gathering all three datasets, as part of the assessing process, I went ahead to visualize each dataset to ascertain how and what needs cleaning and also went ahead to carryout same process programmatically.\n",
    "\n",
    "> Below, I have outlined about eight `quality` issues that needed to be acted upon and three `tidiness`issues. Before i embarked on cleaning the outlined issues, I made a copy of all three datasets and thus, worked on the copies made.\n",
    "\n",
    "\n"
   ]
  },
  {
   "cell_type": "markdown",
   "metadata": {},
   "source": [
    "### Quality issues\n",
    "#### `tweet_df` table\n",
    "1. Timestamp is object data type instead of datetime data type\n",
    "\n",
    "2. Some columns like [in_reply_to_status_id, in_reply_to_user_id, retweeted_status_id, retweeted_status_user_id, retweeted_status_timestamp, expanded_urls] all have missing values. We will remove the NAN on rows and also on column because we will not be needing the columns.\n",
    "\n",
    "3. Some Dog names are actually not Dog names but **Alphabets, stopwords** all recorded with small letters\n",
    "\n",
    "4. Some Dogs names are having **None** as a value, that needs to change to NAN\n",
    "\n",
    "5. The rating denominator has values greater or less than 10\n",
    "\n",
    "6. Some dog stages are have None values\n",
    "\n",
    "#### `pred_df` table\n",
    "7. There are some predicted images that are not dogs (since we are particular about dogs, we will drop them)\n",
    "\n",
    "8. Inconsistent spelling of predicted dog breed (mixture of upper and lower case)\n",
    "\n",
    "\n",
    "\n",
    "\n",
    "\n",
    "### Tidiness issues\n",
    "1. tweet_df should have all dog stages as one column\n",
    "\n",
    "2. timestamp should be broken into date, month and day\n",
    "\n",
    "3. The three datasets all share one particular column and so, we will merge all datasets to produce a master data"
   ]
  },
  {
   "cell_type": "markdown",
   "metadata": {},
   "source": [
    "The cleaning process was a rigorous processing as it had me changing the data type of a column from an object type to a datetime, creating new cloumns as values in that column was merged as one (from a column named timestamp, I was able to create another column having **year**, **month** and **day**.\n",
    "\n",
    "After cleaning the three datasets, I had to merge all three datasets as a master dataset using the column by name `tweet_id`.\n"
   ]
  }
 ],
 "metadata": {
  "kernelspec": {
   "display_name": "Python 3 (ipykernel)",
   "language": "python",
   "name": "python3"
  },
  "language_info": {
   "codemirror_mode": {
    "name": "ipython",
    "version": 3
   },
   "file_extension": ".py",
   "mimetype": "text/x-python",
   "name": "python",
   "nbconvert_exporter": "python",
   "pygments_lexer": "ipython3",
   "version": "3.9.7"
  }
 },
 "nbformat": 4,
 "nbformat_minor": 2
}
